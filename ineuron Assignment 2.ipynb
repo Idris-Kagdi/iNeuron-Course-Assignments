{
 "cells": [
  {
   "cell_type": "markdown",
   "id": "f380dd21",
   "metadata": {},
   "source": [
    "# Python Assignment 2\n",
    "### Question 1\n",
    "Create the pattern using for loop in Python.\n"
   ]
  },
  {
   "cell_type": "code",
   "execution_count": 1,
   "id": "70aea479",
   "metadata": {},
   "outputs": [
    {
     "name": "stdout",
     "output_type": "stream",
     "text": [
      "*\n",
      "**\n",
      "***\n",
      "****\n",
      "*****\n",
      "****\n",
      "***\n",
      "**\n",
      "*\n"
     ]
    }
   ],
   "source": [
    "for i in range((9)):\n",
    "    if i < 5:\n",
    "        print(\"*\"*(i+1))\n",
    "    else:\n",
    "        print(\"*\"*(9-i))"
   ]
  },
  {
   "cell_type": "markdown",
   "id": "608c678d",
   "metadata": {},
   "source": [
    "### Question 2\n",
    "Write a Python program to reverse a word after accepting the input from the user."
   ]
  },
  {
   "cell_type": "code",
   "execution_count": 2,
   "id": "f5552579",
   "metadata": {},
   "outputs": [
    {
     "name": "stdout",
     "output_type": "stream",
     "text": [
      "Please type the name to be reversed: Idris\n",
      "sirdI\n"
     ]
    }
   ],
   "source": [
    "name = input(\"Please type the name to be reversed: \")\n",
    "reversed_name = name[::-1]\n",
    "print(reversed_name)"
   ]
  },
  {
   "cell_type": "code",
   "execution_count": null,
   "id": "7873d428",
   "metadata": {},
   "outputs": [],
   "source": []
  }
 ],
 "metadata": {
  "kernelspec": {
   "display_name": "Python 3 (ipykernel)",
   "language": "python",
   "name": "python3"
  },
  "language_info": {
   "codemirror_mode": {
    "name": "ipython",
    "version": 3
   },
   "file_extension": ".py",
   "mimetype": "text/x-python",
   "name": "python",
   "nbconvert_exporter": "python",
   "pygments_lexer": "ipython3",
   "version": "3.9.12"
  }
 },
 "nbformat": 4,
 "nbformat_minor": 5
}
