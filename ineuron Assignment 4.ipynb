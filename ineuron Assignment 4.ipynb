{
 "cells": [
  {
   "cell_type": "markdown",
   "id": "9ea2b491",
   "metadata": {},
   "source": [
    "# Python Assignment 4\n",
    "### Question 1\n",
    "Write a Python Program (with class concepts) to find the area of the triangle using the below formula.\n",
    "\n",
    "area = (s*(s-a)*(s-b)*(s-c)) ** 0.5\n",
    "\n",
    "Function to take the length of the sides of triangle from user should be defined in the parent class and function to calculate the area should be defined in subclass."
   ]
  },
  {
   "cell_type": "code",
   "execution_count": 1,
   "id": "18592dbb",
   "metadata": {},
   "outputs": [],
   "source": [
    "class triangle:\n",
    "    \n",
    "    def __init__(self):\n",
    "        self.side1 = float(input(\"Enter length of side 1: \"))\n",
    "        self.side2 = float(input(\"Enter length of side 2: \"))\n",
    "        self.side3 = float(input(\"Enter length of side 3: \"))\n",
    "        self.semi_perimeter = (self.side1+self.side2+self.side3)/2\n",
    "    \n",
    "class area(triangle):\n",
    "    def __init__(self):\n",
    "        super().__init__()\n",
    "        self.area = (self.semi_perimeter*(self.semi_perimeter-self.side1)*(self.semi_perimeter-self.side2)*(self.semi_perimeter-self.side3))**0.5\n",
    "        print(\"traingle area is {}\".format(self.area))"
   ]
  },
  {
   "cell_type": "code",
   "execution_count": 2,
   "id": "ab9835e2",
   "metadata": {},
   "outputs": [
    {
     "name": "stdout",
     "output_type": "stream",
     "text": [
      "Enter length of side 1: 3\n",
      "Enter length of side 2: 4\n",
      "Enter length of side 3: 5\n",
      "traingle area is 6.0\n"
     ]
    },
    {
     "data": {
      "text/plain": [
       "<__main__.area at 0x1a2ab545f40>"
      ]
     },
     "execution_count": 2,
     "metadata": {},
     "output_type": "execute_result"
    }
   ],
   "source": [
    "area()"
   ]
  },
  {
   "cell_type": "markdown",
   "id": "b6adac3d",
   "metadata": {},
   "source": [
    "### Question 2\n",
    "Write a function filter_long_words() that takes a list of words and an integer n and returns the list of words that are longer than n."
   ]
  },
  {
   "cell_type": "code",
   "execution_count": 3,
   "id": "e9f1b32c",
   "metadata": {},
   "outputs": [],
   "source": [
    "def filter_long_words(list_of_words, no_of_letters):\n",
    "    final_list = [i for i in list_of_words if len(i) > no_of_letters]\n",
    "    return final_list  "
   ]
  },
  {
   "cell_type": "code",
   "execution_count": 4,
   "id": "45e09333",
   "metadata": {},
   "outputs": [
    {
     "data": {
      "text/plain": [
       "['ffgfhhhet', 'fgfbtj']"
      ]
     },
     "execution_count": 4,
     "metadata": {},
     "output_type": "execute_result"
    }
   ],
   "source": [
    "a=['e','f','ffgfhhhet','fgfbtj']\n",
    "filter_long_words(a,5)"
   ]
  },
  {
   "cell_type": "markdown",
   "id": "5d240671",
   "metadata": {},
   "source": [
    "### Question 3\n",
    "Write a Python program using function concept that maps list of words into a list of integers representing the lengths of the corresponding words.\n",
    "\n",
    "Hint: If a list [ ab,cde,erty] is passed on to the python function output should come as [2,3,4]\n",
    "\n",
    "Here 2,3 and 4 are the lengths of the words in the list."
   ]
  },
  {
   "cell_type": "code",
   "execution_count": 5,
   "id": "03a9d255",
   "metadata": {},
   "outputs": [],
   "source": [
    "def List_of_words_length(words_list):\n",
    "   return list(map(lambda i: len(i), words_list))"
   ]
  },
  {
   "cell_type": "code",
   "execution_count": 6,
   "id": "57a13c97",
   "metadata": {},
   "outputs": [
    {
     "data": {
      "text/plain": [
       "[1, 1, 9, 6]"
      ]
     },
     "execution_count": 6,
     "metadata": {},
     "output_type": "execute_result"
    }
   ],
   "source": [
    "List_of_words_length(a)"
   ]
  },
  {
   "cell_type": "markdown",
   "id": "fa152976",
   "metadata": {},
   "source": [
    "### Question 4\n",
    "Write a Python function which takes a character (i.e. a string of length 1) and returns True if it is a vowel, False otherwise."
   ]
  },
  {
   "cell_type": "code",
   "execution_count": 7,
   "id": "0bdb3e01",
   "metadata": {},
   "outputs": [],
   "source": [
    "def is_it_a_vowel(i):\n",
    "    for j in ['a','e','i','o','u']:\n",
    "        if i==j:\n",
    "            return True\n",
    "    else:\n",
    "        return False"
   ]
  },
  {
   "cell_type": "code",
   "execution_count": 8,
   "id": "3a8d928c",
   "metadata": {},
   "outputs": [
    {
     "data": {
      "text/plain": [
       "False"
      ]
     },
     "execution_count": 8,
     "metadata": {},
     "output_type": "execute_result"
    }
   ],
   "source": [
    "is_it_a_vowel('y')"
   ]
  },
  {
   "cell_type": "code",
   "execution_count": null,
   "id": "164749b9",
   "metadata": {},
   "outputs": [],
   "source": []
  }
 ],
 "metadata": {
  "kernelspec": {
   "display_name": "Python 3 (ipykernel)",
   "language": "python",
   "name": "python3"
  },
  "language_info": {
   "codemirror_mode": {
    "name": "ipython",
    "version": 3
   },
   "file_extension": ".py",
   "mimetype": "text/x-python",
   "name": "python",
   "nbconvert_exporter": "python",
   "pygments_lexer": "ipython3",
   "version": "3.9.12"
  }
 },
 "nbformat": 4,
 "nbformat_minor": 5
}
